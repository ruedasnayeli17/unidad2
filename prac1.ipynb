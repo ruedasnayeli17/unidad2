{
  "nbformat": 4,
  "nbformat_minor": 0,
  "metadata": {
    "colab": {
      "provenance": [],
      "authorship_tag": "ABX9TyPoVhMA8yPx7MLyj4Rq0mgI",
      "include_colab_link": true
    },
    "kernelspec": {
      "name": "python3",
      "display_name": "Python 3"
    },
    "language_info": {
      "name": "python"
    }
  },
  "cells": [
    {
      "cell_type": "markdown",
      "metadata": {
        "id": "view-in-github",
        "colab_type": "text"
      },
      "source": [
        "<a href=\"https://colab.research.google.com/github/ruedasnayeli17/unidad2/blob/main/prac1.ipynb\" target=\"_parent\"><img src=\"https://colab.research.google.com/assets/colab-badge.svg\" alt=\"Open In Colab\"/></a>"
      ]
    },
    {
      "cell_type": "code",
      "execution_count": null,
      "metadata": {
        "id": "JKWD4oZLR8h9"
      },
      "outputs": [],
      "source": []
    },
    {
      "cell_type": "markdown",
      "source": [
        "¿Qué es Pandas en Python? Pandas es una librería o biblioteca de Python que se utiliza para trabajar con conjuntos de datos. Tiene funciones para analizar, limpiar y explorar y manipular datos. El nombre de Pandas hace referencia a PanelData y PythonData. Fue creado en el 2008.\n",
        "-----------\n",
        "¿Por qué utilizar Pandas? Pandas nos permite analizar BigData y sacar conclusiones basadas en teorías estadísticas. Los Pandas pueden limpiar conjuntos de datos desordenados y hacerlos legibles relevantes. Los datos relevantes son importantes en la ciencia de datos.\n",
        "-----------\n",
        "¿Qué podemos hacer con Pandas?\n",
        "-1. Saber si existe correlación entre dos o más columnas.\n",
        "-2. Cuál es el valor promedio\n",
        "-3. Valor máximo\n",
        "-4. Valor mínimo\n",
        "----------\n",
        " Pandas también puede eliminar filas que no son relevantes o que contienen errores, como valores vacíos.\n",
        " ---------\n",
        "Instalación de Pandas Si tienes Python y Pip ya instalado en el sistema, instálalo usando el siguiente comando. pip install pandas\n",
        "----------\n",
        " Si este comando falla, utiliza una distribución de Python que ya tenga Pandas instalado. Instalar Pandas Una vez que hayas instalado Pandas, impórtalo a las aplicaciones agregando la palabra clave import pandas. Listo. Está importado y listo para usar.\n",
        " -pandas as pd\n",
        "  Crea un alias con la palabra AS al importar pandas.\n",
        "  -----------\n",
        "  \n"
      ],
      "metadata": {
        "id": "_F6ozprtXaZ2"
      }
    },
    {
      "cell_type": "markdown",
      "source": [
        "Ejemplo:\n",
        "----"
      ],
      "metadata": {
        "id": "jBL85cI7ZfKe"
      }
    },
    {
      "cell_type": "code",
      "source": [
        "import pandas as pd"
      ],
      "metadata": {
        "id": "Fy8hxm-jZLrH"
      },
      "execution_count": null,
      "outputs": []
    },
    {
      "cell_type": "markdown",
      "source": [
        "Ahora el paquete pandas puede denominarse pd en lugar de pandas."
      ],
      "metadata": {
        "id": "szozSH9sZR72"
      }
    },
    {
      "cell_type": "markdown",
      "source": [
        "Comprobando la versión de pandas. La cadena de la versión se almacena en el atributo _version_.\n",
        "-Ejemplo:\n",
        "--------\n"
      ],
      "metadata": {
        "id": "_mQK-8ocZot-"
      }
    },
    {
      "cell_type": "code",
      "source": [
        "import pandas as pd\n",
        "print(pd.__version__)"
      ],
      "metadata": {
        "colab": {
          "base_uri": "https://localhost:8080/"
        },
        "id": "VODEi-BHZ21v",
        "outputId": "97a9fb5b-f4d4-4e2b-f7c2-0f977967afa0"
      },
      "execution_count": null,
      "outputs": [
        {
          "output_type": "stream",
          "name": "stdout",
          "text": [
            "2.2.2\n"
          ]
        }
      ]
    },
    {
      "cell_type": "markdown",
      "source": [
        " Ejercicio, ¿Cuál de las siguientes tres opciones es la biblioteca oficial de pandas?\n",
        " -------\n",
        " 1, import p.\n",
        " -------\n",
        "2, import pandas.\n",
        "--------  \n",
        "3, import pan.\n",
        "--------\n",
        "\n",
        "La opción correcta es:\n",
        "-------\n",
        "\n",
        "2, import pandas\n",
        "--------\n"
      ],
      "metadata": {
        "id": "6g8DWVzcaHPf"
      }
    },
    {
      "cell_type": "markdown",
      "source": [
        " Pandas serie. ¿Qué es una serie? Una serie de pandas es como una columna en una tabla. Es una matriz unidimensional que contiene datos de cualquier tipo.\n",
        " ----------\n"
      ],
      "metadata": {
        "id": "ureHsseebN9X"
      }
    },
    {
      "cell_type": "markdown",
      "source": [
        "Ejemplo:"
      ],
      "metadata": {
        "id": "1zqnYTppbmz3"
      }
    },
    {
      "cell_type": "code",
      "source": [
        "import pandas as pd\n",
        "a=[1,7,2]\n",
        "myvar=pd.Series(a)"
      ],
      "metadata": {
        "id": "ybaegPaXbpAH"
      },
      "execution_count": null,
      "outputs": []
    },
    {
      "cell_type": "markdown",
      "source": [
        " Etiquetas. Si no se especifica nada más, los valores se etiquetan con su número de índice. El primer valor tiene el índice 0, el segundo valor tiene el índice 1, etc.\n",
        " ----\n",
        " -Esta etiqueta se puede utilizar para acceder a un valor específico.\n",
        " ----"
      ],
      "metadata": {
        "id": "Kaa11tUjb-Ef"
      }
    },
    {
      "cell_type": "markdown",
      "source": [
        "Ejemplo:devuelve el primer valor de la serie."
      ],
      "metadata": {
        "id": "rEb6_co_cPK3"
      }
    },
    {
      "cell_type": "code",
      "source": [
        "print (myvar[0])"
      ],
      "metadata": {
        "colab": {
          "base_uri": "https://localhost:8080/"
        },
        "id": "-n6wWDJNcX2_",
        "outputId": "f782033f-751f-42fb-c3e1-9c79d02a8c8f"
      },
      "execution_count": null,
      "outputs": [
        {
          "output_type": "stream",
          "name": "stdout",
          "text": [
            "1\n"
          ]
        }
      ]
    },
    {
      "cell_type": "markdown",
      "source": [
        "Crear etiquetas. Con el argumento índice podemos nombrar nuestras propias etiquetas\n",
        "---------\n"
      ],
      "metadata": {
        "id": "1PRjvCr0ceaP"
      }
    },
    {
      "cell_type": "markdown",
      "source": [
        " Ejemplo, crea tus propias etiquetas"
      ],
      "metadata": {
        "id": "dIWqAhI4clTH"
      }
    },
    {
      "cell_type": "code",
      "source": [
        "import pandas as pd\n",
        "a=[1,7,2]\n",
        "myvar=pd.Series(a, index=[\"x\",\"y\",\"z\"])\n",
        "print(myvar)"
      ],
      "metadata": {
        "colab": {
          "base_uri": "https://localhost:8080/"
        },
        "id": "JxXlSya9criP",
        "outputId": "2c653f10-67a5-4b09-c86b-2766a56af6ea"
      },
      "execution_count": null,
      "outputs": [
        {
          "output_type": "stream",
          "name": "stdout",
          "text": [
            "x    1\n",
            "y    7\n",
            "z    2\n",
            "dtype: int64\n"
          ]
        }
      ]
    },
    {
      "cell_type": "markdown",
      "source": [
        "Cuando hayamos creado etiquetas, podemos acceder a un elemento haciendo referencia a su etiqueta.\n",
        "---------\n"
      ],
      "metadata": {
        "id": "4oMRRC64dOJ3"
      }
    },
    {
      "cell_type": "markdown",
      "source": [
        "Ejemplo:devuelve el valor de y"
      ],
      "metadata": {
        "id": "N4awMBVydpFv"
      }
    },
    {
      "cell_type": "code",
      "source": [
        "print(myvar[\"y\"])"
      ],
      "metadata": {
        "colab": {
          "base_uri": "https://localhost:8080/"
        },
        "id": "kmEc1bLbd5T_",
        "outputId": "46558bc6-0a7b-42ae-aa4a-d9998cdacf97"
      },
      "execution_count": null,
      "outputs": [
        {
          "output_type": "stream",
          "name": "stdout",
          "text": [
            "7\n"
          ]
        }
      ]
    },
    {
      "cell_type": "markdown",
      "source": [
        "Objetos, clave/valor.\n",
        "-Podemos utilizar clave-valor como un diccionario al crear una serie."
      ],
      "metadata": {
        "id": "2oiBSXSFeqH_"
      }
    },
    {
      "cell_type": "code",
      "source": [
        "import pandas as pd\n",
        "çalorias={\"dia1\":420,\"dia2\":380,\"dia3\":390}\n",
        "myvar = pd.Series(çalorias)\n",
        "print(myvar)"
      ],
      "metadata": {
        "colab": {
          "base_uri": "https://localhost:8080/"
        },
        "id": "vkp1Qvhke7hX",
        "outputId": "d16798d0-7f2c-43c8-8ccb-3008eadd9bd0"
      },
      "execution_count": null,
      "outputs": [
        {
          "output_type": "stream",
          "name": "stdout",
          "text": [
            "dia1    420\n",
            "dia2    380\n",
            "dia3    390\n",
            "dtype: int64\n"
          ]
        }
      ]
    },
    {
      "cell_type": "markdown",
      "source": [
        "-Las claves del diccionario se convierten en las etiquetas para solucionar elementos del diccionario. Utiliza el argumento índice y especifique el elemento que desea incluir en la serie\n",
        "---------\n"
      ],
      "metadata": {
        "id": "_4gJf-LAgTCI"
      }
    },
    {
      "cell_type": "markdown",
      "source": [
        "Ejemplo, crea una serie utilizando únicamente datos del día 1 y 2\n"
      ],
      "metadata": {
        "id": "la5kEKA1ggUQ"
      }
    },
    {
      "cell_type": "code",
      "source": [
        "myvar=pd.Series(çalorias, index=[\"dia1\",\"dia2\"])\n",
        "print(myvar)"
      ],
      "metadata": {
        "colab": {
          "base_uri": "https://localhost:8080/"
        },
        "id": "xTbG4h0UhBkQ",
        "outputId": "9938f11c-369d-4bcb-cd37-e4da1026bd8d"
      },
      "execution_count": null,
      "outputs": [
        {
          "output_type": "stream",
          "name": "stdout",
          "text": [
            "dia1    420\n",
            "dia2    380\n",
            "dtype: int64\n"
          ]
        }
      ]
    },
    {
      "cell_type": "markdown",
      "source": [
        " Marcos de datos/dataframes. Los conjuntos de datos en pandas pueden ser tablas multidimensionales llamadas dataframes. La serie es como una columna de dataframe, es toda la tabla.\n",
        " ---------\n"
      ],
      "metadata": {
        "id": "Y0XRuHWqhqBA"
      }
    },
    {
      "cell_type": "markdown",
      "source": [
        "Ejemplo, crea un dataframe a partir de dos series."
      ],
      "metadata": {
        "id": "Bq8VzFmOh3RA"
      }
    },
    {
      "cell_type": "code",
      "source": [
        "import pandas as pd\n",
        "\n",
        "calorias = {\"dia1\": 420, \"dia2\": 380, \"dia3\": 390}\n",
        "ejercicio = {\"dia1\": 30, \"dia2\": 25, \"dia3\": 40}\n",
        "\n",
        "calorias_series = pd.Series(calorias)\n",
        "ejercicio_series = pd.Series(ejercicio)\n",
        "\n",
        "df = pd.DataFrame({\n",
        "    \"Calorias\": calorias_series,\n",
        "    \"Ejercicio\": ejercicio_series\n",
        "})\n",
        "\n",
        "print(df)"
      ],
      "metadata": {
        "colab": {
          "base_uri": "https://localhost:8080/"
        },
        "id": "kenQ4dvjh_yY",
        "outputId": "b4fdf192-fbb0-469f-e876-f8ea525a88dc"
      },
      "execution_count": null,
      "outputs": [
        {
          "output_type": "stream",
          "name": "stdout",
          "text": [
            "      Calorias  Ejercicio\n",
            "dia1       420         30\n",
            "dia2       380         25\n",
            "dia3       390         40\n"
          ]
        }
      ]
    },
    {
      "cell_type": "markdown",
      "source": [
        "¿Una serie es como un renglón en una tabla?\n",
        "falso, es como una columna.\n",
        "---------\n"
      ],
      "metadata": {
        "id": "Rcm2HI-xkCtY"
      }
    }
  ]
}