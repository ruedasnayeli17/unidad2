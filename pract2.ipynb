{
  "nbformat": 4,
  "nbformat_minor": 0,
  "metadata": {
    "colab": {
      "provenance": [],
      "authorship_tag": "ABX9TyOB8JtNBk0VRCarlYMPQYt8",
      "include_colab_link": true
    },
    "kernelspec": {
      "name": "python3",
      "display_name": "Python 3"
    },
    "language_info": {
      "name": "python"
    }
  },
  "cells": [
    {
      "cell_type": "markdown",
      "metadata": {
        "id": "view-in-github",
        "colab_type": "text"
      },
      "source": [
        "<a href=\"https://colab.research.google.com/github/ruedasnayeli17/unidad2/blob/main/pract2.ipynb\" target=\"_parent\"><img src=\"https://colab.research.google.com/assets/colab-badge.svg\" alt=\"Open In Colab\"/></a>"
      ]
    },
    {
      "cell_type": "code",
      "execution_count": null,
      "metadata": {
        "id": "S8jfNNHc16sK"
      },
      "outputs": [],
      "source": []
    },
    {
      "cell_type": "markdown",
      "source": [
        "Nayeli Haydee Ruedas Alejos-Practica 2 de pandas\n",
        "7 de octubre del 2025\n",
        "----------\n",
        "Data frames de pandas\n",
        "----------\n",
        "Un Data Frame es una estructura de datos bidimensional,como una\n",
        "matriz o tabla con filas y columnas\n",
        "----------\n",
        "Ejemplo:Crea una DataFrame basico:\n",
        "---------\n"
      ],
      "metadata": {
        "id": "OEpOhYX42DrR"
      }
    },
    {
      "cell_type": "code",
      "source": [
        "import pandas as pd\n",
        "datos={\n",
        "    \"calorias\":[420,380,390],\n",
        "    \"duracion\":[50,40,45]}\n",
        "#cargar datos dentro del dataframe\n",
        "dataframe=pd.DataFrame(datos)\n",
        "print(dataframe)"
      ],
      "metadata": {
        "colab": {
          "base_uri": "https://localhost:8080/"
        },
        "id": "qbM0AEd_3KhR",
        "outputId": "ef77a467-fa75-4cb5-cb5a-74448c73cff1"
      },
      "execution_count": null,
      "outputs": [
        {
          "output_type": "stream",
          "name": "stdout",
          "text": [
            "   calorias  duracion\n",
            "0       420        50\n",
            "1       380        40\n",
            "2       390        45\n"
          ]
        }
      ]
    },
    {
      "cell_type": "markdown",
      "source": [
        "Localizar filas\n",
        "----------\n",
        "Como puedes ver en el resultado anterior el data frame es como una tabla con filas y columnas\n",
        "----------\n",
        "Pandas usa el atrtibuto \"loc\" para devolver una o mas filas especificas\n",
        "-----------\n",
        "Ejemplo: devuelve la fila cero\n",
        "-----------\n"
      ],
      "metadata": {
        "id": "Jma2_fXx6_p3"
      }
    },
    {
      "cell_type": "code",
      "source": [
        "import pandas as pd\n",
        "datos={\n",
        "    \"calorias\":[420,380,390],\n",
        "    \"duracion\":[50,40,45]}\n",
        "#cargar datos dentro del dataframe\n",
        "dataframe=pd.DataFrame(datos)\n",
        "print(dataframe.loc[0])"
      ],
      "metadata": {
        "colab": {
          "base_uri": "https://localhost:8080/"
        },
        "outputId": "bf32f022-ae48-4b4e-ea5c-74c86f4d4383",
        "id": "lmCFM7ij8ItF"
      },
      "execution_count": null,
      "outputs": [
        {
          "output_type": "stream",
          "name": "stdout",
          "text": [
            "calorias    420\n",
            "duracion     50\n",
            "Name: 0, dtype: int64\n"
          ]
        }
      ]
    },
    {
      "cell_type": "markdown",
      "source": [
        "Ejemplo:Devuelve las filas cero y uno\n",
        "-------\n"
      ],
      "metadata": {
        "id": "fHpfF6JP9jzX"
      }
    },
    {
      "cell_type": "code",
      "source": [
        "import pandas as pd\n",
        "datos={\n",
        "    \"calorias\":[420,380,390],\n",
        "    \"duracion\":[50,40,45]}\n",
        "#cargar datos dentro del dataframe\n",
        "dataframe=pd.DataFrame(datos)\n",
        "print(dataframe.loc[[0,1]])"
      ],
      "metadata": {
        "colab": {
          "base_uri": "https://localhost:8080/"
        },
        "outputId": "dd63c1f2-c2ca-4533-da88-233d097c7ae6",
        "id": "zoj-D70s92Gk"
      },
      "execution_count": null,
      "outputs": [
        {
          "output_type": "stream",
          "name": "stdout",
          "text": [
            "   calorias  duracion\n",
            "0       420        50\n",
            "1       380        40\n"
          ]
        }
      ]
    },
    {
      "cell_type": "markdown",
      "source": [
        "Indices nombrados\n",
        "--------\n",
        "con el argumento \"index\" puedes nombrar tus propios indices o etiquetas\n",
        "---------\n",
        "Ejemplo: agrega una lista de nombres para darle una etiqueta a cada fila\n"
      ],
      "metadata": {
        "id": "e_sN5erw-MDf"
      }
    },
    {
      "cell_type": "code",
      "source": [
        "import pandas as pd\n",
        "datos={\n",
        "    \"calorias\":[420,380,390],\n",
        "    \"duracion\":[50,40,45]}\n",
        "#cargar datos dentro del dataframe\n",
        "dataframe=pd.DataFrame(datos,index=[\"dia-1\",\"dia-2\",\"dia-3\"])\n",
        "print(dataframe)"
      ],
      "metadata": {
        "colab": {
          "base_uri": "https://localhost:8080/"
        },
        "outputId": "35fd624e-cde3-46da-b7ee-0c3115d0dfc2",
        "id": "zxlsJaNR_BJU"
      },
      "execution_count": null,
      "outputs": [
        {
          "output_type": "stream",
          "name": "stdout",
          "text": [
            "       calorias  duracion\n",
            "dia-1       420        50\n",
            "dia-2       380        40\n",
            "dia-3       390        45\n"
          ]
        }
      ]
    },
    {
      "cell_type": "markdown",
      "source": [
        "Localizar indices por el nombre o etiqueta\n",
        "----\n",
        "utilice el atributo \"loc\" para devolver las filas especificas\n",
        "-----\n",
        "ejemplo: devuelve la fila \"dia2\""
      ],
      "metadata": {
        "id": "Oh3-JTd5_pxf"
      }
    },
    {
      "cell_type": "code",
      "source": [
        "import pandas as pd\n",
        "datos={\n",
        "    \"calorias\":[420,380,390],\n",
        "    \"duracion\":[50,40,45]}\n",
        "#cargar datos dentro del dataframe\n",
        "dataframe=pd.DataFrame(datos,index=[\"dia-1\",\"dia-2\",\"dia-3\"])\n",
        "print(dataframe.loc[\"dia-2\"])"
      ],
      "metadata": {
        "colab": {
          "base_uri": "https://localhost:8080/"
        },
        "outputId": "b7f04b94-b751-445a-9f3a-401e63dfa768",
        "id": "oEqdRvDXAg6l"
      },
      "execution_count": null,
      "outputs": [
        {
          "output_type": "stream",
          "name": "stdout",
          "text": [
            "calorias    380\n",
            "duracion     40\n",
            "Name: dia-2, dtype: int64\n"
          ]
        }
      ]
    }
  ]
}